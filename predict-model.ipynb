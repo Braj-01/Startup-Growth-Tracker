{
 "cells": [
  {
   "cell_type": "code",
   "execution_count": 1,
   "id": "b74b8c79",
   "metadata": {},
   "outputs": [
    {
     "name": "stdout",
     "output_type": "stream",
     "text": [
      "RandomForest Accuracy: 0.6380\n",
      "LogisticRegression Accuracy: 0.6410\n",
      "SVC Accuracy: 0.6400\n",
      "\n",
      "✅ Best Model: LogisticRegression with Accuracy: 0.6410\n"
     ]
    }
   ],
   "source": [
    "# Global Startup Success Prediction - Model Training\n",
    "\n",
    "import pandas as pd\n",
    "import numpy as np\n",
    "from sklearn.model_selection import train_test_split\n",
    "from sklearn.preprocessing import StandardScaler\n",
    "from sklearn.ensemble import RandomForestClassifier\n",
    "from sklearn.linear_model import LogisticRegression\n",
    "from sklearn.svm import SVC\n",
    "from sklearn.metrics import accuracy_score, classification_report\n",
    "import pickle\n",
    "\n",
    "# Load dataset\n",
    "df = pd.read_csv('global_startup_success_dataset.csv')\n",
    "\n",
    "# Create target variable\n",
    "df['Success'] = (df['Success Score'] >= 7).astype(int)\n",
    "\n",
    "# Drop irrelevant columns\n",
    "df.drop(['Startup Name', 'Success Score'], axis=1, inplace=True)\n",
    "\n",
    "# Encode binary columns\n",
    "df['Acquired?'] = df['Acquired?'].map({'Yes': 1, 'No': 0})\n",
    "df['IPO?'] = df['IPO?'].map({'Yes': 1, 'No': 0})\n",
    "\n",
    "# One-hot encode categorical features\n",
    "df = pd.get_dummies(df, columns=['Country', 'Industry', 'Funding Stage', 'Tech Stack'])\n",
    "\n",
    "# Feature-target split\n",
    "X = df.drop('Success', axis=1)\n",
    "y = df['Success']\n",
    "\n",
    "# Train/test split\n",
    "X_train, X_test, y_train, y_test = train_test_split(X, y, test_size=0.2, random_state=42)\n",
    "\n",
    "# Scale features\n",
    "scaler = StandardScaler()\n",
    "X_train = scaler.fit_transform(X_train)\n",
    "X_test = scaler.transform(X_test)\n",
    "\n",
    "# Train models\n",
    "models = {\n",
    "    \"RandomForest\": RandomForestClassifier(random_state=42),\n",
    "    \"LogisticRegression\": LogisticRegression(max_iter=1000),\n",
    "    \"SVC\": SVC()\n",
    "}\n",
    "\n",
    "best_model = None\n",
    "best_score = 0\n",
    "best_model_name = \"\"\n",
    "\n",
    "for name, model in models.items():\n",
    "    model.fit(X_train, y_train)\n",
    "    preds = model.predict(X_test)\n",
    "    score = accuracy_score(y_test, preds)\n",
    "    print(f\"{name} Accuracy: {score:.4f}\")\n",
    "    if score > best_score:\n",
    "        best_score = score\n",
    "        best_model = model\n",
    "        best_model_name = name\n",
    "\n",
    "print(f\"\\n✅ Best Model: {best_model_name} with Accuracy: {best_score:.4f}\")\n",
    "\n",
    "# Save best model and scaler\n",
    "with open('startup_success_model.pkl', 'wb') as f:\n",
    "    pickle.dump((best_model, scaler, X.columns), f)\n"
   ]
  }
 ],
 "metadata": {
  "kernelspec": {
   "display_name": "Python 3",
   "language": "python",
   "name": "python3"
  },
  "language_info": {
   "codemirror_mode": {
    "name": "ipython",
    "version": 3
   },
   "file_extension": ".py",
   "mimetype": "text/x-python",
   "name": "python",
   "nbconvert_exporter": "python",
   "pygments_lexer": "ipython3",
   "version": "3.12.5"
  }
 },
 "nbformat": 4,
 "nbformat_minor": 5
}
